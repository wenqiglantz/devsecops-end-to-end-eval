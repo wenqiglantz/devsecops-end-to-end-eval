{
  "nbformat": 4,
  "nbformat_minor": 0,
  "metadata": {
    "colab": {
      "provenance": []
    },
    "kernelspec": {
      "name": "python3",
      "display_name": "Python 3"
    },
    "language_info": {
      "name": "python"
    }
  },
  "cells": [
    {
      "cell_type": "markdown",
      "source": [
        "# End-to-End Evaluation for RAG Pipeline with Recursive Document Agents\n",
        "\n",
        "Let's evaluate this RAG pipeline for DevSecOps which was implemented with recursive document agents."
      ],
      "metadata": {
        "id": "T8Y-rApSQOta"
      }
    },
    {
      "cell_type": "markdown",
      "source": [
        "## Set up the query engine"
      ],
      "metadata": {
        "id": "S3AIawHlUo5Z"
      }
    },
    {
      "cell_type": "markdown",
      "source": [
        "### Install LlamaIndex and set up"
      ],
      "metadata": {
        "id": "V-klMHFlUqGx"
      }
    },
    {
      "cell_type": "code",
      "source": [
        "!pip install llama_index==0.8.12\n",
        "!pip install pypdf"
      ],
      "metadata": {
        "colab": {
          "base_uri": "https://localhost:8080/"
        },
        "id": "7EeHhmD5wFB7",
        "outputId": "dcc81f11-7c76-4d03-bb17-1f42ef3690af"
      },
      "execution_count": 24,
      "outputs": [
        {
          "output_type": "stream",
          "name": "stdout",
          "text": [
            "Requirement already satisfied: llama_index==0.8.12 in /usr/local/lib/python3.10/dist-packages (0.8.12)\n",
            "Requirement already satisfied: tiktoken in /usr/local/lib/python3.10/dist-packages (from llama_index==0.8.12) (0.4.0)\n",
            "Requirement already satisfied: dataclasses-json in /usr/local/lib/python3.10/dist-packages (from llama_index==0.8.12) (0.5.14)\n",
            "Requirement already satisfied: langchain>=0.0.262 in /usr/local/lib/python3.10/dist-packages (from llama_index==0.8.12) (0.0.275)\n",
            "Requirement already satisfied: sqlalchemy>=2.0.15 in /usr/local/lib/python3.10/dist-packages (from llama_index==0.8.12) (2.0.20)\n",
            "Requirement already satisfied: numpy in /usr/local/lib/python3.10/dist-packages (from llama_index==0.8.12) (1.23.5)\n",
            "Requirement already satisfied: tenacity<9.0.0,>=8.2.0 in /usr/local/lib/python3.10/dist-packages (from llama_index==0.8.12) (8.2.3)\n",
            "Requirement already satisfied: openai>=0.26.4 in /usr/local/lib/python3.10/dist-packages (from llama_index==0.8.12) (0.27.9)\n",
            "Requirement already satisfied: pandas in /usr/local/lib/python3.10/dist-packages (from llama_index==0.8.12) (1.5.3)\n",
            "Requirement already satisfied: urllib3<2 in /usr/local/lib/python3.10/dist-packages (from llama_index==0.8.12) (1.26.16)\n",
            "Requirement already satisfied: fsspec>=2023.5.0 in /usr/local/lib/python3.10/dist-packages (from llama_index==0.8.12) (2023.6.0)\n",
            "Requirement already satisfied: typing-inspect>=0.8.0 in /usr/local/lib/python3.10/dist-packages (from llama_index==0.8.12) (0.9.0)\n",
            "Requirement already satisfied: typing-extensions>=4.5.0 in /usr/local/lib/python3.10/dist-packages (from llama_index==0.8.12) (4.7.1)\n",
            "Requirement already satisfied: beautifulsoup4 in /usr/local/lib/python3.10/dist-packages (from llama_index==0.8.12) (4.11.2)\n",
            "Requirement already satisfied: nest-asyncio in /usr/local/lib/python3.10/dist-packages (from llama_index==0.8.12) (1.5.7)\n",
            "Requirement already satisfied: PyYAML>=5.3 in /usr/local/lib/python3.10/dist-packages (from langchain>=0.0.262->llama_index==0.8.12) (6.0.1)\n",
            "Requirement already satisfied: aiohttp<4.0.0,>=3.8.3 in /usr/local/lib/python3.10/dist-packages (from langchain>=0.0.262->llama_index==0.8.12) (3.8.5)\n",
            "Requirement already satisfied: async-timeout<5.0.0,>=4.0.0 in /usr/local/lib/python3.10/dist-packages (from langchain>=0.0.262->llama_index==0.8.12) (4.0.3)\n",
            "Requirement already satisfied: langsmith<0.1.0,>=0.0.21 in /usr/local/lib/python3.10/dist-packages (from langchain>=0.0.262->llama_index==0.8.12) (0.0.27)\n",
            "Requirement already satisfied: numexpr<3.0.0,>=2.8.4 in /usr/local/lib/python3.10/dist-packages (from langchain>=0.0.262->llama_index==0.8.12) (2.8.5)\n",
            "Requirement already satisfied: pydantic<3,>=1 in /usr/local/lib/python3.10/dist-packages (from langchain>=0.0.262->llama_index==0.8.12) (2.2.1)\n",
            "Requirement already satisfied: requests<3,>=2 in /usr/local/lib/python3.10/dist-packages (from langchain>=0.0.262->llama_index==0.8.12) (2.31.0)\n",
            "Requirement already satisfied: marshmallow<4.0.0,>=3.18.0 in /usr/local/lib/python3.10/dist-packages (from dataclasses-json->llama_index==0.8.12) (3.20.1)\n",
            "Requirement already satisfied: tqdm in /usr/local/lib/python3.10/dist-packages (from openai>=0.26.4->llama_index==0.8.12) (4.66.1)\n",
            "Requirement already satisfied: greenlet!=0.4.17 in /usr/local/lib/python3.10/dist-packages (from sqlalchemy>=2.0.15->llama_index==0.8.12) (2.0.2)\n",
            "Requirement already satisfied: mypy-extensions>=0.3.0 in /usr/local/lib/python3.10/dist-packages (from typing-inspect>=0.8.0->llama_index==0.8.12) (1.0.0)\n",
            "Requirement already satisfied: soupsieve>1.2 in /usr/local/lib/python3.10/dist-packages (from beautifulsoup4->llama_index==0.8.12) (2.4.1)\n",
            "Requirement already satisfied: python-dateutil>=2.8.1 in /usr/local/lib/python3.10/dist-packages (from pandas->llama_index==0.8.12) (2.8.2)\n",
            "Requirement already satisfied: pytz>=2020.1 in /usr/local/lib/python3.10/dist-packages (from pandas->llama_index==0.8.12) (2023.3)\n",
            "Requirement already satisfied: regex>=2022.1.18 in /usr/local/lib/python3.10/dist-packages (from tiktoken->llama_index==0.8.12) (2023.6.3)\n",
            "Requirement already satisfied: attrs>=17.3.0 in /usr/local/lib/python3.10/dist-packages (from aiohttp<4.0.0,>=3.8.3->langchain>=0.0.262->llama_index==0.8.12) (23.1.0)\n",
            "Requirement already satisfied: charset-normalizer<4.0,>=2.0 in /usr/local/lib/python3.10/dist-packages (from aiohttp<4.0.0,>=3.8.3->langchain>=0.0.262->llama_index==0.8.12) (3.2.0)\n",
            "Requirement already satisfied: multidict<7.0,>=4.5 in /usr/local/lib/python3.10/dist-packages (from aiohttp<4.0.0,>=3.8.3->langchain>=0.0.262->llama_index==0.8.12) (6.0.4)\n",
            "Requirement already satisfied: yarl<2.0,>=1.0 in /usr/local/lib/python3.10/dist-packages (from aiohttp<4.0.0,>=3.8.3->langchain>=0.0.262->llama_index==0.8.12) (1.9.2)\n",
            "Requirement already satisfied: frozenlist>=1.1.1 in /usr/local/lib/python3.10/dist-packages (from aiohttp<4.0.0,>=3.8.3->langchain>=0.0.262->llama_index==0.8.12) (1.4.0)\n",
            "Requirement already satisfied: aiosignal>=1.1.2 in /usr/local/lib/python3.10/dist-packages (from aiohttp<4.0.0,>=3.8.3->langchain>=0.0.262->llama_index==0.8.12) (1.3.1)\n",
            "Requirement already satisfied: packaging>=17.0 in /usr/local/lib/python3.10/dist-packages (from marshmallow<4.0.0,>=3.18.0->dataclasses-json->llama_index==0.8.12) (23.1)\n",
            "Requirement already satisfied: annotated-types>=0.4.0 in /usr/local/lib/python3.10/dist-packages (from pydantic<3,>=1->langchain>=0.0.262->llama_index==0.8.12) (0.5.0)\n",
            "Requirement already satisfied: pydantic-core==2.6.1 in /usr/local/lib/python3.10/dist-packages (from pydantic<3,>=1->langchain>=0.0.262->llama_index==0.8.12) (2.6.1)\n",
            "Requirement already satisfied: six>=1.5 in /usr/local/lib/python3.10/dist-packages (from python-dateutil>=2.8.1->pandas->llama_index==0.8.12) (1.16.0)\n",
            "Requirement already satisfied: idna<4,>=2.5 in /usr/local/lib/python3.10/dist-packages (from requests<3,>=2->langchain>=0.0.262->llama_index==0.8.12) (3.4)\n",
            "Requirement already satisfied: certifi>=2017.4.17 in /usr/local/lib/python3.10/dist-packages (from requests<3,>=2->langchain>=0.0.262->llama_index==0.8.12) (2023.7.22)\n",
            "Requirement already satisfied: pypdf in /usr/local/lib/python3.10/dist-packages (3.15.4)\n"
          ]
        }
      ]
    },
    {
      "cell_type": "code",
      "execution_count": 25,
      "metadata": {
        "id": "EWFRhJpBvZQc"
      },
      "outputs": [],
      "source": [
        "from llama_index import (\n",
        "    VectorStoreIndex,\n",
        "    ListIndex,\n",
        "    SimpleDirectoryReader,\n",
        "    ServiceContext,\n",
        "    Response\n",
        ")\n",
        "from llama_index.evaluation import (\n",
        "    DatasetGenerator,\n",
        "    QueryResponseEvaluator,\n",
        "    ResponseEvaluator\n",
        ")\n",
        "from llama_index.retrievers import RecursiveRetriever\n",
        "from llama_index.query_engine import RetrieverQueryEngine\n",
        "from llama_index.response_synthesizers import get_response_synthesizer\n",
        "from llama_index.schema import IndexNode\n",
        "from llama_index.tools import QueryEngineTool, ToolMetadata\n",
        "from llama_index.llms import OpenAI\n",
        "from llama_index.agent import OpenAIAgent\n",
        "import pandas as pd\n",
        "import openai\n",
        "import os"
      ]
    },
    {
      "cell_type": "code",
      "source": [
        "openai.api_key = 'YOUR-API-KEY'\n",
        "\n",
        "#define LLM service\n",
        "llm = OpenAI(temperature=0.1, model_name=\"gpt-3.5-turbo\")\n",
        "service_context = ServiceContext.from_defaults(llm=llm)"
      ],
      "metadata": {
        "id": "NhCJLikmvja4"
      },
      "execution_count": 26,
      "outputs": []
    },
    {
      "cell_type": "code",
      "source": [
        "from google.colab import drive\n",
        "drive.mount('/content/drive')"
      ],
      "metadata": {
        "colab": {
          "base_uri": "https://localhost:8080/"
        },
        "id": "2EH3a35lzgsP",
        "outputId": "f68a208a-fcc8-48b6-cddf-e4ce11b56ed6"
      },
      "execution_count": 4,
      "outputs": [
        {
          "output_type": "stream",
          "name": "stdout",
          "text": [
            "Mounted at /content/drive\n"
          ]
        }
      ]
    },
    {
      "cell_type": "markdown",
      "source": [
        "### Load documents"
      ],
      "metadata": {
        "id": "yMGL3DuuUyBJ"
      }
    },
    {
      "cell_type": "code",
      "source": [
        "titles = [\n",
        "    \"DevOps Self-Service Pipeline Architecture and Its 3–2–1 Rule\",\n",
        "    \"DevOps Self-Service Centric Terraform Project Structure\",\n",
        "    \"DevOps Self-Service Centric Pipeline Security and Guardrails\"\n",
        "    ]\n",
        "\n",
        "documents = {}\n",
        "for title in titles:\n",
        "    documents[title] = SimpleDirectoryReader(input_files=[f\"data/{title}.pdf\"]).load_data()\n",
        "print(f\"loaded documents with {len(documents)} documents\")"
      ],
      "metadata": {
        "colab": {
          "base_uri": "https://localhost:8080/"
        },
        "id": "JHsubrwxvsUB",
        "outputId": "6fc90a58-984f-4589-91ab-7bc9a60d5c28"
      },
      "execution_count": 27,
      "outputs": [
        {
          "output_type": "stream",
          "name": "stdout",
          "text": [
            "loaded documents with 3 documents\n"
          ]
        }
      ]
    },
    {
      "cell_type": "markdown",
      "source": [
        "### Build document agents"
      ],
      "metadata": {
        "id": "Wezg2decwuwi"
      }
    },
    {
      "cell_type": "code",
      "source": [
        "# Build agents dictionary\n",
        "agents = {}\n",
        "\n",
        "for title in titles:\n",
        "\n",
        "    # build vector index\n",
        "    vector_index = VectorStoreIndex.from_documents(documents[title], service_context=service_context)\n",
        "\n",
        "    # build list index\n",
        "    list_index = ListIndex.from_documents(documents[title], service_context=service_context)\n",
        "\n",
        "    # define query engines\n",
        "    vector_query_engine = vector_index.as_query_engine()\n",
        "    list_query_engine = list_index.as_query_engine()\n",
        "\n",
        "    # define tools\n",
        "    query_engine_tools = [\n",
        "        QueryEngineTool(\n",
        "            query_engine=vector_query_engine,\n",
        "            metadata=ToolMetadata(\n",
        "                name=\"vector_tool\",\n",
        "                description=f\"Useful for retrieving specific context related to {title}\",\n",
        "            ),\n",
        "        ),\n",
        "        QueryEngineTool(\n",
        "            query_engine=list_query_engine,\n",
        "            metadata=ToolMetadata(\n",
        "                name=\"summary_tool\",\n",
        "                description=f\"Useful for summarization questions related to {title}\",\n",
        "            ),\n",
        "        ),\n",
        "    ]\n",
        "\n",
        "    # build agent\n",
        "    function_llm = OpenAI(model=\"gpt-3.5-turbo-0613\")\n",
        "    agent = OpenAIAgent.from_tools(\n",
        "        query_engine_tools,\n",
        "        llm=function_llm,\n",
        "        verbose=False,\n",
        "    )\n",
        "\n",
        "    agents[title] = agent\n"
      ],
      "metadata": {
        "id": "48wW2HE0vzjS"
      },
      "execution_count": 28,
      "outputs": []
    },
    {
      "cell_type": "markdown",
      "source": [
        "### Build index nodes, indexes, and query engine"
      ],
      "metadata": {
        "id": "k346mAliVNne"
      }
    },
    {
      "cell_type": "code",
      "source": [
        "# define index nodes that link to the document agents\n",
        "nodes = []\n",
        "for title in titles:\n",
        "    doc_summary = (\n",
        "        f\"This content contains details about {title}. \"\n",
        "        f\"Use this index if you need to lookup specific facts about {title}.\\n\"\n",
        "        \"Do not use this index if you want to query multiple documents.\"\n",
        "    )\n",
        "    node = IndexNode(text=doc_summary, index_id=title)\n",
        "    nodes.append(node)\n",
        "\n",
        "# define retriever\n",
        "vector_index = VectorStoreIndex(nodes)\n",
        "vector_retriever = vector_index.as_retriever(similarity_top_k=1)\n",
        "\n",
        "# define recursive retriever\n",
        "# note: can pass `agents` dict as `query_engine_dict` since every agent can be used as a query engine\n",
        "recursive_retriever = RecursiveRetriever(\n",
        "    \"vector\",\n",
        "    retriever_dict={\"vector\": vector_retriever},\n",
        "    query_engine_dict=agents,\n",
        "    verbose=False,\n",
        ")\n",
        "\n",
        "response_synthesizer = get_response_synthesizer(response_mode=\"compact\")\n",
        "\n",
        "# define query engine\n",
        "query_engine = RetrieverQueryEngine.from_args(\n",
        "    recursive_retriever,\n",
        "    response_synthesizer=response_synthesizer,\n",
        "    service_context=service_context,\n",
        ")\n"
      ],
      "metadata": {
        "id": "QeLU8cDkv2XR"
      },
      "execution_count": 29,
      "outputs": []
    },
    {
      "cell_type": "markdown",
      "source": [
        "## End-to-End Evaluation"
      ],
      "metadata": {
        "id": "eJ5RNlJdVeJA"
      }
    },
    {
      "cell_type": "markdown",
      "source": [
        "### Generate the dataset"
      ],
      "metadata": {
        "id": "roXsXlNNVjwz"
      }
    },
    {
      "cell_type": "code",
      "source": [
        "import random\n",
        "random.seed(42)\n",
        "from llama_index.prompts import Prompt\n",
        "\n",
        "document_list = SimpleDirectoryReader(\"data\").load_data()\n",
        "\n",
        "gpt4_service_context = ServiceContext.from_defaults(llm=OpenAI(temperature=0.1, llm=\"gpt-4\"))\n",
        "\n",
        "question_dataset = []\n",
        "if os.path.exists(\"question_dataset.txt\"):\n",
        "    with open(\"question_dataset.txt\", \"r\") as f:\n",
        "        for line in f:\n",
        "            question_dataset.append(line.strip())\n",
        "else:\n",
        "    # generate questions\n",
        "    data_generator = DatasetGenerator.from_documents(\n",
        "        document_list,\n",
        "        text_question_template=Prompt(\n",
        "            \"A sample from the documents is below.\\n\"\n",
        "            \"---------------------\\n\"\n",
        "            \"{context_str}\\n\"\n",
        "            \"---------------------\\n\"\n",
        "            \"Using the documentation sample, carefully follow the instructions below:\\n\"\n",
        "            \"{query_str}\"\n",
        "        ),\n",
        "        question_gen_query=(\n",
        "            \"You are an evaluator for a search pipeline. Your task is to write a list of summarization \"\n",
        "            \"questions or question/answer questions using the provided documents. Restrict the questions to the \"\n",
        "            \"context information provided.\\n\"\n",
        "            \"Question: \"\n",
        "        ),\n",
        "        # set this to be low, so we can generate more questions\n",
        "        service_context=gpt4_service_context\n",
        "    )\n",
        "    generated_questions = data_generator.generate_questions_from_nodes()\n",
        "    print(f\"Generated {len(generated_questions)} questions.\")\n",
        "\n",
        "    # randomly pick 30 questions from each dataset\n",
        "    generated_questions = random.sample(generated_questions, 30)\n",
        "    question_dataset.extend(generated_questions)\n",
        "\n",
        "    print(f\"Randomly picked {len(question_dataset)} questions.\")\n",
        "\n",
        "    # save the questions!\n",
        "    with open(\"question_dataset.txt\", \"w\") as f:\n",
        "        for question in question_dataset:\n",
        "            f.write(f\"{question.strip()}\\n\")"
      ],
      "metadata": {
        "id": "7LKgp0LhvvpD",
        "colab": {
          "base_uri": "https://localhost:8080/"
        },
        "outputId": "70f97138-13b5-4160-a595-4e12cc0c46c3"
      },
      "execution_count": 30,
      "outputs": [
        {
          "output_type": "stream",
          "name": "stdout",
          "text": [
            "Generated 187 questions.\n",
            "Randomly picked 30 questions.\n"
          ]
        }
      ]
    },
    {
      "cell_type": "markdown",
      "source": [
        "### Print the questions"
      ],
      "metadata": {
        "id": "ddQyLnhCVqH-"
      }
    },
    {
      "cell_type": "code",
      "source": [
        "for i, question in enumerate(question_dataset, start=1):\n",
        "    print(f\"{i}. {question}\")"
      ],
      "metadata": {
        "colab": {
          "base_uri": "https://localhost:8080/"
        },
        "id": "arZvdpdNhnyx",
        "outputId": "39a3cc1d-6599-485c-ff58-0c7f55c60875"
      },
      "execution_count": 31,
      "outputs": [
        {
          "output_type": "stream",
          "name": "stdout",
          "text": [
            "1. What is the high-level design of DevOps pipelines?\n",
            "2. What is a recently introduced feature in Infracost Cloud?\n",
            "3. What is the purpose of Infracost in cloud cost management?\n",
            "4. Why is it important to include TruffleHog in your pipelines?\n",
            "5. How can you fix the vulnerability in the base image according to the provided instructions?\n",
            "6. What is the purpose of the aquasecurity/trivy-action in the GitHub Actions CI workflow?\n",
            "7. What are the optional parameters that can be used with the Checkov action?\n",
            "8. How can Infracost be integrated into the infrastructure pipeline?\n",
            "9. How are application pipelines triggered?\n",
            "10. What is the topic of the second part in the series?\n",
            "11. What command is used to generate the Infracost report in HTML format?\n",
            "12. How does Terraform enable the creation of reusable infrastructure?\n",
            "13. How can the GitHub Actions workflow be configured to dynamically select the backend configuration file based on the environment?\n",
            "14. What is the diff feature in Infracost and how does it serve as a guardrail for cloud cost management?\n",
            "15. How does Infracost provide a safety net for catching abnormal cloud cost estimates?\n",
            "16. What is the purpose of uploading the report to an artifact?\n",
            "17. What types of files or systems can Trivy scan?\n",
            "18. What severity levels does Trivy consider for vulnerabilities?\n",
            "19. What is the purpose of the Terraform GitHub Actions workflow?\n",
            "20. Can you provide a link to a website that provides information on creating Terraform modules?\n",
            "21. What is the intended audience for these documents?\n",
            "22. What is the purpose of the \"DevOps Self-Service -Centric GitHub Actions’ Workflow Orchestration\" article?\n",
            "23. What is the purpose of the \"--soft-fail\" flag in the TFSec step of the workflow?\n",
            "24. What is the topic of the document?\n",
            "25. What command is used to initialize Terraform with a specific backend configuration file?\n",
            "26. What information can Trivy find during a scan?\n",
            "27. What CLI configuration files should be ignored?\n",
            "28. What is the purpose of Terraform as an Infrastructure as Code (IaC) tool?\n",
            "29. What is SonarScan and what does it analyze in source code?\n",
            "30. What are the three samples mentioned in the document?\n"
          ]
        }
      ]
    },
    {
      "cell_type": "code",
      "source": [
        "# define jupyter display function\n",
        "def display_eval_df(query: str, response: Response, eval_result: str) -> None:\n",
        "    eval_df = pd.DataFrame(\n",
        "        {\n",
        "            \"Query\": query,\n",
        "            \"Response\": str(response),\n",
        "            \"Source\": response.get_formatted_sources(500) + \"...\",\n",
        "            \"Evaluation Result\": eval_result,\n",
        "        },\n",
        "        index=[0],\n",
        "    )\n",
        "    eval_df = eval_df.style.set_properties(\n",
        "        **{\n",
        "            \"inline-size\": \"600px\",\n",
        "            \"overflow-wrap\": \"break-word\",\n",
        "        },\n",
        "        subset=[\"Response\", \"Source\"]\n",
        "    )\n",
        "    display(eval_df)"
      ],
      "metadata": {
        "id": "7uNjIUK3v7Hj"
      },
      "execution_count": 32,
      "outputs": []
    },
    {
      "cell_type": "markdown",
      "source": [
        "### Evaluating Response, test with one question first"
      ],
      "metadata": {
        "id": "tjjRalHLVwyF"
      }
    },
    {
      "cell_type": "code",
      "source": [
        "evaluator = ResponseEvaluator(service_context=gpt4_service_context)\n",
        "response_vector = query_engine.query(question_dataset[0])\n",
        "eval_result = evaluator.evaluate(response_vector)\n",
        "\n",
        "pd.set_option(\"display.max_colwidth\", 0)\n",
        "display_eval_df(question_dataset[0], response_vector, eval_result)"
      ],
      "metadata": {
        "colab": {
          "base_uri": "https://localhost:8080/",
          "height": 219
        },
        "id": "2A2gMhZOEhij",
        "outputId": "5f19bf9b-ac23-4c83-8522-66488e69a4ba"
      },
      "execution_count": 45,
      "outputs": [
        {
          "output_type": "display_data",
          "data": {
            "text/plain": [
              "<pandas.io.formats.style.Styler at 0x7cfeb036d060>"
            ],
            "text/html": [
              "<style type=\"text/css\">\n",
              "#T_25091_row0_col1, #T_25091_row0_col2 {\n",
              "  inline-size: 600px;\n",
              "  overflow-wrap: break-word;\n",
              "}\n",
              "</style>\n",
              "<table id=\"T_25091\" class=\"dataframe\">\n",
              "  <thead>\n",
              "    <tr>\n",
              "      <th class=\"blank level0\" >&nbsp;</th>\n",
              "      <th id=\"T_25091_level0_col0\" class=\"col_heading level0 col0\" >Query</th>\n",
              "      <th id=\"T_25091_level0_col1\" class=\"col_heading level0 col1\" >Response</th>\n",
              "      <th id=\"T_25091_level0_col2\" class=\"col_heading level0 col2\" >Source</th>\n",
              "      <th id=\"T_25091_level0_col3\" class=\"col_heading level0 col3\" >Evaluation Result</th>\n",
              "    </tr>\n",
              "  </thead>\n",
              "  <tbody>\n",
              "    <tr>\n",
              "      <th id=\"T_25091_level0_row0\" class=\"row_heading level0 row0\" >0</th>\n",
              "      <td id=\"T_25091_row0_col0\" class=\"data row0 col0\" >What is the high-level design of DevOps pipelines?</td>\n",
              "      <td id=\"T_25091_row0_col1\" class=\"data row0 col1\" >The high-level design of DevOps pipelines typically involves several stages, including source code management, build and compilation, automated testing, artifact repository, deployment, configuration management, continuous monitoring, feedback loop, and continuous improvement. This design aims to automate and streamline the software delivery process, enabling faster and more reliable releases.</td>\n",
              "      <td id=\"T_25091_row0_col2\" class=\"data row0 col2\" >> Source (Doc id: f5889f12-1ea8-418b-a068-ca731dda4f3a): Query: What is the high-level design of DevOps pipelines?\n",
              "Response: The high-level design of DevOps pipelines typically follows a continuous integration and continuous delivery (CI/CD) approach. Here is a general outline of the high-level design:\n",
              "\n",
              "1. Source Code Management: Developers commit their code changes to a version control system (e.g., Git) to track and manage code changes.\n",
              "\n",
              "2. Build and Compilation: The pipeline triggers a build process to compile the source code and generate execut......</td>\n",
              "      <td id=\"T_25091_row0_col3\" class=\"data row0 col3\" >YES</td>\n",
              "    </tr>\n",
              "  </tbody>\n",
              "</table>\n"
            ]
          },
          "metadata": {}
        }
      ]
    },
    {
      "cell_type": "markdown",
      "source": [
        "### Evaluating Response for Hallucination"
      ],
      "metadata": {
        "id": "j_pOSbRwVyyC"
      }
    },
    {
      "cell_type": "code",
      "source": [
        "import time\n",
        "import asyncio\n",
        "import nest_asyncio\n",
        "nest_asyncio.apply()\n",
        "\n",
        "def evaluate_query_engine(evaluator, query_engine, questions):\n",
        "    async def run_query(query_engine, q):\n",
        "        try:\n",
        "            return await query_engine.aquery(q)\n",
        "        except:\n",
        "            return Response(response=\"Error, query failed.\")\n",
        "\n",
        "    total_correct = 0\n",
        "    all_results = []\n",
        "    for batch_size in range(0, len(questions), 5):\n",
        "        batch_qs = questions[batch_size:batch_size+5]\n",
        "\n",
        "        tasks = [run_query(query_engine, q) for q in batch_qs]\n",
        "        responses = asyncio.run(asyncio.gather(*tasks))\n",
        "        print(f\"finished batch {(batch_size // 5) + 1} out of {len(questions) // 5}\")\n",
        "\n",
        "        for response in responses:\n",
        "            eval_result = 1 if \"YES\" in evaluator.evaluate(response) else 0\n",
        "            total_correct += eval_result\n",
        "            all_results.append(eval_result)\n",
        "\n",
        "        # helps avoid rate limits\n",
        "        time.sleep(1)\n",
        "\n",
        "    return total_correct, all_results"
      ],
      "metadata": {
        "id": "OmV5PGb4h352"
      },
      "execution_count": 34,
      "outputs": []
    },
    {
      "cell_type": "code",
      "source": [
        "total_correct, all_results = evaluate_query_engine(evaluator, query_engine, question_dataset)\n",
        "\n",
        "print(f\"Hallucination? Scored {total_correct} out of {len(question_dataset)} questions correctly.\")"
      ],
      "metadata": {
        "id": "Djkj0noBv9zC",
        "colab": {
          "base_uri": "https://localhost:8080/"
        },
        "outputId": "d41fb1a2-4e6d-436c-edc4-6dacbb8528ba"
      },
      "execution_count": 35,
      "outputs": [
        {
          "output_type": "stream",
          "name": "stdout",
          "text": [
            "finished batch 1 out of 6\n",
            "finished batch 2 out of 6\n",
            "finished batch 3 out of 6\n",
            "finished batch 4 out of 6\n",
            "finished batch 5 out of 6\n",
            "finished batch 6 out of 6\n",
            "Hallucination? Scored 30 out of 30 questions correctly.\n"
          ]
        }
      ]
    },
    {
      "cell_type": "markdown",
      "source": [
        "### Find out the hallucinated questions and investigate why"
      ],
      "metadata": {
        "id": "oLjE-1TdV6_p"
      }
    },
    {
      "cell_type": "code",
      "source": [
        "import numpy as np\n",
        "\n",
        "hallucinated_questions = np.array(question_dataset)[np.array(all_results) == 0]\n",
        "print(hallucinated_questions)"
      ],
      "metadata": {
        "colab": {
          "base_uri": "https://localhost:8080/"
        },
        "id": "cgj9cyq0E4eg",
        "outputId": "36e7546e-8d27-4b0e-eed7-5b8df60a27c9"
      },
      "execution_count": 14,
      "outputs": [
        {
          "output_type": "stream",
          "name": "stdout",
          "text": [
            "[]\n"
          ]
        }
      ]
    },
    {
      "cell_type": "code",
      "source": [
        "response = query_engine.query('')\n",
        "print(str(response))\n",
        "print(\"-----------------\")\n",
        "print(response.get_formatted_sources(length=1000))"
      ],
      "metadata": {
        "id": "WGNQf0_VE9N0"
      },
      "execution_count": null,
      "outputs": []
    },
    {
      "cell_type": "markdown",
      "source": [
        "### Evaluating Response for Answer Quality"
      ],
      "metadata": {
        "id": "qieav9vwWABs"
      }
    },
    {
      "cell_type": "code",
      "source": [
        "import time\n",
        "import asyncio\n",
        "import nest_asyncio\n",
        "nest_asyncio.apply()\n",
        "from llama_index import Response\n",
        "\n",
        "def evaluate_query_engine(evaluator, query_engine, questions):\n",
        "    async def run_query(query_engine, q):\n",
        "        try:\n",
        "            return await query_engine.aquery(q)\n",
        "        except:\n",
        "            return Response(response=\"Error, query failed.\")\n",
        "\n",
        "    total_correct = 0\n",
        "    all_results = []\n",
        "    for batch_size in range(0, len(questions), 5):\n",
        "        batch_qs = questions[batch_size:batch_size+5]\n",
        "\n",
        "        tasks = [run_query(query_engine, q) for q in batch_qs]\n",
        "        responses = asyncio.run(asyncio.gather(*tasks))\n",
        "        print(f\"finished batch {(batch_size // 5) + 1} out of {len(questions) // 5}\")\n",
        "\n",
        "        for question, response in zip(batch_qs, responses):\n",
        "            eval_result = 1 if \"YES\" in evaluator.evaluate(question, response) else 0\n",
        "            total_correct += eval_result\n",
        "            all_results.append(eval_result)\n",
        "\n",
        "        # helps avoid rate limits\n",
        "        time.sleep(1)\n",
        "\n",
        "    return total_correct, all_results"
      ],
      "metadata": {
        "id": "D6b7B7M068pa"
      },
      "execution_count": 36,
      "outputs": []
    },
    {
      "cell_type": "code",
      "source": [
        "evaluator = QueryResponseEvaluator(service_context=gpt4_service_context)\n",
        "\n",
        "total_correct, all_results = evaluate_query_engine(evaluator, query_engine, question_dataset)\n",
        "\n",
        "print(f\"Response satisfies the query? Scored {total_correct} out of {len(question_dataset)} questions correctly.\")"
      ],
      "metadata": {
        "colab": {
          "base_uri": "https://localhost:8080/"
        },
        "id": "ZMA1SA-wikT-",
        "outputId": "0c816b63-239c-4268-b3b8-ac77b196755a"
      },
      "execution_count": 37,
      "outputs": [
        {
          "output_type": "stream",
          "name": "stdout",
          "text": [
            "finished batch 1 out of 6\n",
            "finished batch 2 out of 6\n",
            "finished batch 3 out of 6\n",
            "finished batch 4 out of 6\n",
            "finished batch 5 out of 6\n",
            "finished batch 6 out of 6\n",
            "Response satisfies the query? Scored 30 out of 30 questions correctly.\n"
          ]
        }
      ]
    },
    {
      "cell_type": "markdown",
      "source": [
        "### Find out unanswered queries and investigate why"
      ],
      "metadata": {
        "id": "TFO3Y2x9WJd1"
      }
    },
    {
      "cell_type": "code",
      "source": [
        "import numpy as np\n",
        "\n",
        "unanswered_queries = np.array(question_dataset)[np.array(all_results) == 0]\n",
        "print(unanswered_queries)"
      ],
      "metadata": {
        "colab": {
          "base_uri": "https://localhost:8080/"
        },
        "id": "C7otBiDFioPt",
        "outputId": "a60f8fd7-5f0c-4015-f3ba-a56672360546"
      },
      "execution_count": null,
      "outputs": [
        {
          "output_type": "stream",
          "name": "stdout",
          "text": [
            "[]\n"
          ]
        }
      ]
    },
    {
      "cell_type": "code",
      "source": [
        "response = query_engine.query('What is the topic of the second part in the series?')\n",
        "print(str(response))\n",
        "print(\"-----------------\")\n",
        "print(response.get_formatted_sources(length=256))"
      ],
      "metadata": {
        "colab": {
          "base_uri": "https://localhost:8080/"
        },
        "id": "B5sj-6VEFNDF",
        "outputId": "d7b26877-9016-4919-e4c3-1a4e2261837a"
      },
      "execution_count": 44,
      "outputs": [
        {
          "output_type": "stream",
          "name": "stdout",
          "text": [
            "The topic of the second part in the series is \"DevOps Self-Service Pipeline Architecture and Its 3-2-1 Rule\".\n",
            "-----------------\n",
            "> Source (Doc id: 509a158b-728b-4266-b1d6-2454b2b088dc): Query: What is the topic of the second part in the series?\n",
            "Response: The topic of the second part in the series is \"DevOps Self-Service Pipeline Architecture and Its 3-2-1 Rule\".\n"
          ]
        }
      ]
    }
  ]
}